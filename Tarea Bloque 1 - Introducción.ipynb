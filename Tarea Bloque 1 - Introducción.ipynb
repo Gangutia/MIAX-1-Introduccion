{
 "cells": [
  {
   "cell_type": "markdown",
   "id": "26b8b7e3",
   "metadata": {},
   "source": [
    "### TAREA BLOQUE 1 - INTRODUCCIÓN\n",
    "\n",
    "Autor: Iñaki Gangutia Arrázola"
   ]
  },
  {
   "cell_type": "markdown",
   "id": "1f30dc18",
   "metadata": {},
   "source": [
    "### FECHA LIMITE SABADO 8 NOVIEMBRE"
   ]
  },
  {
   "cell_type": "code",
   "execution_count": 65,
   "id": "577c672b",
   "metadata": {},
   "outputs": [],
   "source": [
    "import numpy as np\n",
    "import pandas as pd\n",
    "import matplotlib.pyplot as plt\n",
    "import seaborn as sns"
   ]
  },
  {
   "cell_type": "markdown",
   "id": "99f26c56",
   "metadata": {},
   "source": [
    "Crea un programa extractor cuya función sea obtener datos desde varias fuentes de datos online (APIs).\n",
    "* Este programa puede contener múltiples opciones, pero es necesario que existan métodos para descargar información histórica de precios tanto de acciones como de índices.\n",
    "* Independientemente de la fuente de información, el formato de salida de esta información debe ser estandarizado. Es decir, con independencia de la fuente original, nuestro programa debe darnos en salida objetos iguales. Por ejemplo: independientemente de la api utilizada, el formato de precio histórico debe ser compatible con el formato de salida que resulte de utilizar otra API diferente.\n",
    "* Añade opción de conseguir otra tipología de datos a tu gusto.\n",
    "* Haz que el extractor pueda conseguir N series de datos al mismo tiempo dado un input que induzca a ello."
   ]
  },
  {
   "cell_type": "markdown",
   "id": "d447dd5e",
   "metadata": {},
   "source": [
    "Definimos conjuntos de activos divididos por tipos de activo o región, a modo de facilitar la recolección de información de una forma más sencilla y accesible."
   ]
  },
  {
   "cell_type": "code",
   "execution_count": 169,
   "id": "114d9e3b",
   "metadata": {},
   "outputs": [],
   "source": [
    "def API_data(TKRs, start, end):\n",
    "    import numpy as np\n",
    "    import pandas as pd\n",
    "    import pandas_datareader.data as pdr\n",
    "    from ecbdata import ecbdata as ecb\n",
    "\n",
    "    '''\n",
    "    Retrieve financial time series data for various asset classes based on the specified ticker group and date range\n",
    "\n",
    "    :param TKR: Asset group or ticker symbol(s) to fetch data for\n",
    "    :param start: Start date for the data retrieval period\n",
    "    :param end: End date for the data retrieval period\n",
    "    :return: DataFrame or Series containing the requested financial data\n",
    "    :rtype: Series[Any] | Any | DataFrame\n",
    "    '''\n",
    "\n",
    "\n",
    "    # Pandas Data Reader API function\n",
    "    def API_pdr(tickers, source, start, end):\n",
    "        data = pdr.DataReader(\n",
    "            tickers,\n",
    "            source,\n",
    "            start=start,\n",
    "            end=end\n",
    "            )\n",
    "        data.index = pd.to_datetime(data.index)\n",
    "        return data\n",
    "    \n",
    "\n",
    "    # European Central Bank API function\n",
    "    def API_ecb(tickers, start, end):\n",
    "        data = pd.DataFrame()\n",
    "\n",
    "        for tick in tickers:\n",
    "            data_n = ecb.get_series(\n",
    "                tick,\n",
    "                start=start,\n",
    "                end=end\n",
    "                )\n",
    "\n",
    "            data_n = data_n[['TIME_PERIOD', 'OBS_VALUE']].set_index('TIME_PERIOD')\n",
    "            data_n.index = pd.to_datetime(data_n.index)\n",
    "            data[tick] = data_n\n",
    "\n",
    "        data.rename(columns={'YC.B.U2.EUR.4F.G_N_C.SV_C_YM.SR_3M': 'EU3M',\n",
    "                            'YC.B.U2.EUR.4F.G_N_C.SV_C_YM.SR_1Y': 'EU1Y',\n",
    "                            'YC.B.U2.EUR.4F.G_N_C.SV_C_YM.SR_2Y': 'EU2Y',\n",
    "                            'YC.B.U2.EUR.4F.G_N_C.SV_C_YM.SR_5Y': 'EU5Y',\n",
    "                            'YC.B.U2.EUR.4F.G_N_C.SV_C_YM.SR_10Y': 'EU10Y',\n",
    "                            'YC.B.U2.EUR.4F.G_N_C.SV_C_YM.SR_20Y': 'EU20Y',\n",
    "                            'YC.B.U2.EUR.4F.G_N_C.SV_C_YM.SR_30Y': 'EU30Y'\n",
    "                            }, \n",
    "                            inplace=True)\n",
    "        return data\n",
    "\n",
    "\n",
    "    if type(TKRs) is str:\n",
    "        TKRs = [TKRs]\n",
    "\n",
    "    elif type(TKRs) is list:\n",
    "        pass\n",
    "\n",
    "    else: \n",
    "        raise TypeError('TKRs must be a string or a list of strings.')\n",
    "\n",
    "\n",
    "    data = pd.DataFrame(np.nan, index=pd.date_range(start=start, end=end), columns=[])\n",
    "\n",
    "    for TKR in TKRs:\n",
    "\n",
    "        # World Indexes\n",
    "        if TKR == 'WI':\n",
    "            tickers = ['^SPX',  # S&P 500\n",
    "                       '^NDX',  # Nasdaq 100\n",
    "                       '^DJC',  # Dow Jones Industrial Average\n",
    "                       '^FTM',   # UK\n",
    "                       '^DAX',  # Germany\n",
    "                       '^CAC'  # France\n",
    "                       ]\n",
    "            data_n = API_pdr(tickers, 'stooq', start, end)['Close']\n",
    "        \n",
    "        # Single Stocks (World top 45 by revenue, excluding China, Hong Kong, South Korea and Saudi Arabia)\n",
    "        elif TKR == 'SS':\n",
    "            tickers = ['BRK-B', 'AAPL', 'GOOG',\n",
    "                       'MSFT', 'JPM', 'NVDA',\n",
    "                       'META', 'AMZN', 'XOM',\n",
    "                       'TM', 'TSM', 'HSBC',\n",
    "                       'EQNR', 'TTE', 'WMT',\n",
    "                       'SHEL', 'TCEHY', 'CVX',\n",
    "                       'BAC', 'V', 'CDI.PA',\n",
    "                       'VZ', 'BABA', 'BN',\n",
    "                       'HD', 'WFC', 'FNMA',\n",
    "                       'SAN', 'PG', 'UNH',\n",
    "                       'VOW3.DE', 'PBR', 'NVO'\n",
    "                       ]\n",
    "            data_n = API_pdr(tickers, 'stooq', start, end)['Close']\n",
    "\n",
    "        # EUrope Government Bond rate (all rating issuers)\n",
    "        elif TKR == 'EUGB':\n",
    "            tickers = ['YC.B.U2.EUR.4F.G_N_C.SV_C_YM.SR_3M',  # 3m\n",
    "                       'YC.B.U2.EUR.4F.G_N_C.SV_C_YM.SR_1Y',  # 1y\n",
    "                       'YC.B.U2.EUR.4F.G_N_C.SV_C_YM.SR_2Y',  # 2y\n",
    "                       'YC.B.U2.EUR.4F.G_N_C.SV_C_YM.SR_5Y',  # 5y\n",
    "                       'YC.B.U2.EUR.4F.G_N_C.SV_C_YM.SR_10Y',  # 10y\n",
    "                       'YC.B.U2.EUR.4F.G_N_C.SV_C_YM.SR_20Y',  # 20y\n",
    "                       'YC.B.U2.EUR.4F.G_N_C.SV_C_YM.SR_30Y'   # 30y\n",
    "                       ]\n",
    "            data_n = API_ecb(tickers, start, end)\n",
    "\n",
    "        # U.S. Government Bond rate (Treasury yields)\n",
    "        elif TKR == 'USGB':\n",
    "            tickers = ['DGS3MO',  # 3m\n",
    "                       'DGS1',  # 1y\n",
    "                       'DGS2',  # 2y\n",
    "                       'DGS5',  # 5y\n",
    "                       'DGS10',  # 10y\n",
    "                       'DGS20',  # 20y\n",
    "                       'DGS30'  # 30y\n",
    "                       ]\n",
    "            data_n = API_pdr(tickers, 'fred', start, end)\n",
    "\n",
    "        # Commodities\n",
    "        elif TKR == 'COMM':\n",
    "            tickers = ['CL.F',  # Oil (WTI)\n",
    "                       'CB.F',  # Oil (Brent)\n",
    "                       'NG.F',  # Natural Gas\n",
    "                       'GC.F',  # Gold\n",
    "                       'SI.F',  # Silver\n",
    "                       'HG.F',  # Copper\n",
    "                       'PL.F',  # Platinum\n",
    "                       'ZS.F',  # Soybeans\n",
    "                       'KE.F',  # Wheat\n",
    "                       'ZC.F',  # Corn\n",
    "                       'SB.F',  # Sugar\n",
    "                       'CT.F'  # Cotton\n",
    "                       ]\n",
    "            data_n = API_pdr(tickers, 'stooq', start, end)['Close']\n",
    "\n",
    "        \n",
    "        # Foreign Exchange\n",
    "        elif TKR == 'FX':\n",
    "            tickers = ['EURUSD',  # Euro-Dollar\n",
    "                       'USDJPY',  # USD/JPY (Yen Japonés)\n",
    "                       'GBPUSD',  # Libra Esterlina\n",
    "                       'USDCAD',  # Canadian Dollar\n",
    "                       'AUDUSD',  # Australian Dollar\n",
    "                       'EURCHF',  # Swiss Franc\n",
    "                       'NZDUSD'  # New Zealand Dollar (Kiwi)\n",
    "                       ]\n",
    "            data_n = API_pdr(tickers, 'stooq', start, end)['Close']\n",
    "            \n",
    "        else:\n",
    "            tickers = TKR\n",
    "            data_n = API_pdr(tickers, 'stooq', start, end)['Close']\n",
    "        \n",
    "        data = data.merge(data_n, left_index=True, right_index=True, how='outer')\n",
    "        data.index.name = 'Date'\n",
    "\n",
    "\n",
    "    return data"
   ]
  },
  {
   "cell_type": "code",
   "execution_count": 170,
   "id": "b167a7f6",
   "metadata": {},
   "outputs": [
    {
     "data": {
      "text/html": [
       "<div>\n",
       "<style scoped>\n",
       "    .dataframe tbody tr th:only-of-type {\n",
       "        vertical-align: middle;\n",
       "    }\n",
       "\n",
       "    .dataframe tbody tr th {\n",
       "        vertical-align: top;\n",
       "    }\n",
       "\n",
       "    .dataframe thead th {\n",
       "        text-align: right;\n",
       "    }\n",
       "</style>\n",
       "<table border=\"1\" class=\"dataframe\">\n",
       "  <thead>\n",
       "    <tr style=\"text-align: right;\">\n",
       "      <th></th>\n",
       "    </tr>\n",
       "    <tr>\n",
       "      <th>Exceeded the daily hits limit</th>\n",
       "    </tr>\n",
       "  </thead>\n",
       "  <tbody>\n",
       "  </tbody>\n",
       "</table>\n",
       "</div>"
      ],
      "text/plain": [
       "Empty DataFrame\n",
       "Columns: []\n",
       "Index: []"
      ]
     },
     "execution_count": 170,
     "metadata": {},
     "output_type": "execute_result"
    }
   ],
   "source": [
    "import numpy as np\n",
    "import pandas as pd\n",
    "import pandas_datareader.data as pdr\n",
    "from ecbdata import ecbdata as ecb\n",
    "\n",
    "\n",
    "pdr.DataReader(\n",
    "    'EURUSD',\n",
    "    'stooq',\n",
    "    start=start,\n",
    "    end=end\n",
    "    )"
   ]
  },
  {
   "cell_type": "code",
   "execution_count": null,
   "id": "99c241d7",
   "metadata": {},
   "outputs": [
    {
     "ename": "KeyError",
     "evalue": "'Close'",
     "output_type": "error",
     "traceback": [
      "\u001b[0;31m---------------------------------------------------------------------------\u001b[0m",
      "\u001b[0;31mKeyError\u001b[0m                                  Traceback (most recent call last)",
      "File \u001b[0;32m/opt/anaconda3/lib/python3.11/site-packages/pandas/core/indexes/base.py:3791\u001b[0m, in \u001b[0;36mIndex.get_loc\u001b[0;34m(self, key)\u001b[0m\n\u001b[1;32m   3790\u001b[0m \u001b[38;5;28;01mtry\u001b[39;00m:\n\u001b[0;32m-> 3791\u001b[0m     \u001b[38;5;28;01mreturn\u001b[39;00m \u001b[38;5;28mself\u001b[39m\u001b[38;5;241m.\u001b[39m_engine\u001b[38;5;241m.\u001b[39mget_loc(casted_key)\n\u001b[1;32m   3792\u001b[0m \u001b[38;5;28;01mexcept\u001b[39;00m \u001b[38;5;167;01mKeyError\u001b[39;00m \u001b[38;5;28;01mas\u001b[39;00m err:\n",
      "File \u001b[0;32mindex.pyx:152\u001b[0m, in \u001b[0;36mpandas._libs.index.IndexEngine.get_loc\u001b[0;34m()\u001b[0m\n",
      "File \u001b[0;32mindex.pyx:181\u001b[0m, in \u001b[0;36mpandas._libs.index.IndexEngine.get_loc\u001b[0;34m()\u001b[0m\n",
      "File \u001b[0;32mpandas/_libs/hashtable_class_helper.pxi:7080\u001b[0m, in \u001b[0;36mpandas._libs.hashtable.PyObjectHashTable.get_item\u001b[0;34m()\u001b[0m\n",
      "File \u001b[0;32mpandas/_libs/hashtable_class_helper.pxi:7088\u001b[0m, in \u001b[0;36mpandas._libs.hashtable.PyObjectHashTable.get_item\u001b[0;34m()\u001b[0m\n",
      "\u001b[0;31mKeyError\u001b[0m: 'Close'",
      "\nThe above exception was the direct cause of the following exception:\n",
      "\u001b[0;31mKeyError\u001b[0m                                  Traceback (most recent call last)",
      "Cell \u001b[0;32mIn[167], line 4\u001b[0m\n\u001b[1;32m      1\u001b[0m start \u001b[38;5;241m=\u001b[39m \u001b[38;5;124m'\u001b[39m\u001b[38;5;124m2025-01-01\u001b[39m\u001b[38;5;124m'\u001b[39m\n\u001b[1;32m      2\u001b[0m end \u001b[38;5;241m=\u001b[39m \u001b[38;5;124m'\u001b[39m\u001b[38;5;124m2025-01-06\u001b[39m\u001b[38;5;124m'\u001b[39m\n\u001b[0;32m----> 4\u001b[0m API_data(\u001b[38;5;124m'\u001b[39m\u001b[38;5;124mFX\u001b[39m\u001b[38;5;124m'\u001b[39m, start, end)\n",
      "Cell \u001b[0;32mIn[166], line 150\u001b[0m, in \u001b[0;36mAPI_data\u001b[0;34m(TKRs, start, end)\u001b[0m\n\u001b[1;32m    141\u001b[0m \u001b[38;5;28;01melif\u001b[39;00m TKR \u001b[38;5;241m==\u001b[39m \u001b[38;5;124m'\u001b[39m\u001b[38;5;124mFX\u001b[39m\u001b[38;5;124m'\u001b[39m:\n\u001b[1;32m    142\u001b[0m     tickers \u001b[38;5;241m=\u001b[39m [\u001b[38;5;124m'\u001b[39m\u001b[38;5;124mEURUSD\u001b[39m\u001b[38;5;124m'\u001b[39m,  \u001b[38;5;66;03m# Euro-Dollar\u001b[39;00m\n\u001b[1;32m    143\u001b[0m                \u001b[38;5;124m'\u001b[39m\u001b[38;5;124mUSDJPY\u001b[39m\u001b[38;5;124m'\u001b[39m,  \u001b[38;5;66;03m# USD/JPY (Yen Japonés)\u001b[39;00m\n\u001b[1;32m    144\u001b[0m                \u001b[38;5;124m'\u001b[39m\u001b[38;5;124mGBPUSD\u001b[39m\u001b[38;5;124m'\u001b[39m,  \u001b[38;5;66;03m# Libra Esterlina\u001b[39;00m\n\u001b[0;32m   (...)\u001b[0m\n\u001b[1;32m    148\u001b[0m                \u001b[38;5;124m'\u001b[39m\u001b[38;5;124mNZDUSD\u001b[39m\u001b[38;5;124m'\u001b[39m  \u001b[38;5;66;03m# New Zealand Dollar (Kiwi)\u001b[39;00m\n\u001b[1;32m    149\u001b[0m                ]\n\u001b[0;32m--> 150\u001b[0m     data_n \u001b[38;5;241m=\u001b[39m API_pdr(tickers, \u001b[38;5;124m'\u001b[39m\u001b[38;5;124mstooq\u001b[39m\u001b[38;5;124m'\u001b[39m, start, end)[\u001b[38;5;124m'\u001b[39m\u001b[38;5;124mClose\u001b[39m\u001b[38;5;124m'\u001b[39m]\n\u001b[1;32m    152\u001b[0m \u001b[38;5;28;01melse\u001b[39;00m:\n\u001b[1;32m    153\u001b[0m     tickers \u001b[38;5;241m=\u001b[39m TKR\n",
      "File \u001b[0;32m/opt/anaconda3/lib/python3.11/site-packages/pandas/core/frame.py:3892\u001b[0m, in \u001b[0;36mDataFrame.__getitem__\u001b[0;34m(self, key)\u001b[0m\n\u001b[1;32m   3890\u001b[0m \u001b[38;5;28;01mif\u001b[39;00m is_single_key:\n\u001b[1;32m   3891\u001b[0m     \u001b[38;5;28;01mif\u001b[39;00m \u001b[38;5;28mself\u001b[39m\u001b[38;5;241m.\u001b[39mcolumns\u001b[38;5;241m.\u001b[39mnlevels \u001b[38;5;241m>\u001b[39m \u001b[38;5;241m1\u001b[39m:\n\u001b[0;32m-> 3892\u001b[0m         \u001b[38;5;28;01mreturn\u001b[39;00m \u001b[38;5;28mself\u001b[39m\u001b[38;5;241m.\u001b[39m_getitem_multilevel(key)\n\u001b[1;32m   3893\u001b[0m     indexer \u001b[38;5;241m=\u001b[39m \u001b[38;5;28mself\u001b[39m\u001b[38;5;241m.\u001b[39mcolumns\u001b[38;5;241m.\u001b[39mget_loc(key)\n\u001b[1;32m   3894\u001b[0m     \u001b[38;5;28;01mif\u001b[39;00m is_integer(indexer):\n",
      "File \u001b[0;32m/opt/anaconda3/lib/python3.11/site-packages/pandas/core/frame.py:3950\u001b[0m, in \u001b[0;36mDataFrame._getitem_multilevel\u001b[0;34m(self, key)\u001b[0m\n\u001b[1;32m   3948\u001b[0m \u001b[38;5;28;01mdef\u001b[39;00m \u001b[38;5;21m_getitem_multilevel\u001b[39m(\u001b[38;5;28mself\u001b[39m, key):\n\u001b[1;32m   3949\u001b[0m     \u001b[38;5;66;03m# self.columns is a MultiIndex\u001b[39;00m\n\u001b[0;32m-> 3950\u001b[0m     loc \u001b[38;5;241m=\u001b[39m \u001b[38;5;28mself\u001b[39m\u001b[38;5;241m.\u001b[39mcolumns\u001b[38;5;241m.\u001b[39mget_loc(key)\n\u001b[1;32m   3951\u001b[0m     \u001b[38;5;28;01mif\u001b[39;00m \u001b[38;5;28misinstance\u001b[39m(loc, (\u001b[38;5;28mslice\u001b[39m, np\u001b[38;5;241m.\u001b[39mndarray)):\n\u001b[1;32m   3952\u001b[0m         new_columns \u001b[38;5;241m=\u001b[39m \u001b[38;5;28mself\u001b[39m\u001b[38;5;241m.\u001b[39mcolumns[loc]\n",
      "File \u001b[0;32m/opt/anaconda3/lib/python3.11/site-packages/pandas/core/indexes/multi.py:2925\u001b[0m, in \u001b[0;36mMultiIndex.get_loc\u001b[0;34m(self, key)\u001b[0m\n\u001b[1;32m   2922\u001b[0m     \u001b[38;5;28;01mreturn\u001b[39;00m mask\n\u001b[1;32m   2924\u001b[0m \u001b[38;5;28;01mif\u001b[39;00m \u001b[38;5;129;01mnot\u001b[39;00m \u001b[38;5;28misinstance\u001b[39m(key, \u001b[38;5;28mtuple\u001b[39m):\n\u001b[0;32m-> 2925\u001b[0m     loc \u001b[38;5;241m=\u001b[39m \u001b[38;5;28mself\u001b[39m\u001b[38;5;241m.\u001b[39m_get_level_indexer(key, level\u001b[38;5;241m=\u001b[39m\u001b[38;5;241m0\u001b[39m)\n\u001b[1;32m   2926\u001b[0m     \u001b[38;5;28;01mreturn\u001b[39;00m _maybe_to_slice(loc)\n\u001b[1;32m   2928\u001b[0m keylen \u001b[38;5;241m=\u001b[39m \u001b[38;5;28mlen\u001b[39m(key)\n",
      "File \u001b[0;32m/opt/anaconda3/lib/python3.11/site-packages/pandas/core/indexes/multi.py:3276\u001b[0m, in \u001b[0;36mMultiIndex._get_level_indexer\u001b[0;34m(self, key, level, indexer)\u001b[0m\n\u001b[1;32m   3273\u001b[0m         \u001b[38;5;28;01mreturn\u001b[39;00m \u001b[38;5;28mslice\u001b[39m(i, j, step)\n\u001b[1;32m   3275\u001b[0m \u001b[38;5;28;01melse\u001b[39;00m:\n\u001b[0;32m-> 3276\u001b[0m     idx \u001b[38;5;241m=\u001b[39m \u001b[38;5;28mself\u001b[39m\u001b[38;5;241m.\u001b[39m_get_loc_single_level_index(level_index, key)\n\u001b[1;32m   3278\u001b[0m     \u001b[38;5;28;01mif\u001b[39;00m level \u001b[38;5;241m>\u001b[39m \u001b[38;5;241m0\u001b[39m \u001b[38;5;129;01mor\u001b[39;00m \u001b[38;5;28mself\u001b[39m\u001b[38;5;241m.\u001b[39m_lexsort_depth \u001b[38;5;241m==\u001b[39m \u001b[38;5;241m0\u001b[39m:\n\u001b[1;32m   3279\u001b[0m         \u001b[38;5;66;03m# Desired level is not sorted\u001b[39;00m\n\u001b[1;32m   3280\u001b[0m         \u001b[38;5;28;01mif\u001b[39;00m \u001b[38;5;28misinstance\u001b[39m(idx, \u001b[38;5;28mslice\u001b[39m):\n\u001b[1;32m   3281\u001b[0m             \u001b[38;5;66;03m# test_get_loc_partial_timestamp_multiindex\u001b[39;00m\n",
      "File \u001b[0;32m/opt/anaconda3/lib/python3.11/site-packages/pandas/core/indexes/multi.py:2865\u001b[0m, in \u001b[0;36mMultiIndex._get_loc_single_level_index\u001b[0;34m(self, level_index, key)\u001b[0m\n\u001b[1;32m   2863\u001b[0m     \u001b[38;5;28;01mreturn\u001b[39;00m \u001b[38;5;241m-\u001b[39m\u001b[38;5;241m1\u001b[39m\n\u001b[1;32m   2864\u001b[0m \u001b[38;5;28;01melse\u001b[39;00m:\n\u001b[0;32m-> 2865\u001b[0m     \u001b[38;5;28;01mreturn\u001b[39;00m level_index\u001b[38;5;241m.\u001b[39mget_loc(key)\n",
      "File \u001b[0;32m/opt/anaconda3/lib/python3.11/site-packages/pandas/core/indexes/base.py:3798\u001b[0m, in \u001b[0;36mIndex.get_loc\u001b[0;34m(self, key)\u001b[0m\n\u001b[1;32m   3793\u001b[0m     \u001b[38;5;28;01mif\u001b[39;00m \u001b[38;5;28misinstance\u001b[39m(casted_key, \u001b[38;5;28mslice\u001b[39m) \u001b[38;5;129;01mor\u001b[39;00m (\n\u001b[1;32m   3794\u001b[0m         \u001b[38;5;28misinstance\u001b[39m(casted_key, abc\u001b[38;5;241m.\u001b[39mIterable)\n\u001b[1;32m   3795\u001b[0m         \u001b[38;5;129;01mand\u001b[39;00m \u001b[38;5;28many\u001b[39m(\u001b[38;5;28misinstance\u001b[39m(x, \u001b[38;5;28mslice\u001b[39m) \u001b[38;5;28;01mfor\u001b[39;00m x \u001b[38;5;129;01min\u001b[39;00m casted_key)\n\u001b[1;32m   3796\u001b[0m     ):\n\u001b[1;32m   3797\u001b[0m         \u001b[38;5;28;01mraise\u001b[39;00m InvalidIndexError(key)\n\u001b[0;32m-> 3798\u001b[0m     \u001b[38;5;28;01mraise\u001b[39;00m \u001b[38;5;167;01mKeyError\u001b[39;00m(key) \u001b[38;5;28;01mfrom\u001b[39;00m \u001b[38;5;21;01merr\u001b[39;00m\n\u001b[1;32m   3799\u001b[0m \u001b[38;5;28;01mexcept\u001b[39;00m \u001b[38;5;167;01mTypeError\u001b[39;00m:\n\u001b[1;32m   3800\u001b[0m     \u001b[38;5;66;03m# If we have a listlike key, _check_indexing_error will raise\u001b[39;00m\n\u001b[1;32m   3801\u001b[0m     \u001b[38;5;66;03m#  InvalidIndexError. Otherwise we fall through and re-raise\u001b[39;00m\n\u001b[1;32m   3802\u001b[0m     \u001b[38;5;66;03m#  the TypeError.\u001b[39;00m\n\u001b[1;32m   3803\u001b[0m     \u001b[38;5;28mself\u001b[39m\u001b[38;5;241m.\u001b[39m_check_indexing_error(key)\n",
      "\u001b[0;31mKeyError\u001b[0m: 'Close'"
     ]
    }
   ],
   "source": [
    "start = '2025-01-01'\n",
    "end = '2025-01-06'\n",
    "\n",
    "API_data(['FX', 'EUGB', 'COMM'], start, end)"
   ]
  },
  {
   "cell_type": "markdown",
   "id": "883ed9f5",
   "metadata": {},
   "source": [
    "Hagamos que los datos sean coherentes. Cada serie de datos debe ser un objeto. Crea DataClasses para las series de precios. Existiendo estos objetos, ¿qué es una cartera?"
   ]
  },
  {
   "cell_type": "code",
   "execution_count": null,
   "id": "6db15b5d",
   "metadata": {},
   "outputs": [],
   "source": []
  },
  {
   "cell_type": "markdown",
   "id": "96b5b0fa",
   "metadata": {},
   "source": [
    "Añade métodos a las dataclasses de series de precios que incorporen información estadística relevante. Haz que los métodos para la información más básica (media y desviación típica) se apliquen automáticamente.\n"
   ]
  },
  {
   "cell_type": "code",
   "execution_count": null,
   "id": "b165b22e",
   "metadata": {},
   "outputs": [],
   "source": []
  },
  {
   "cell_type": "markdown",
   "id": "44494460",
   "metadata": {},
   "source": [
    "Dado un valor o una cartera, elabora un pequeño programa que genere una simulación de Monte Carlo para su evolución.\n",
    "* Intenta que esta simulación sea maleable por el usuario por parámetros.\n",
    "* Haz que la simulación pueda ser tanto de la cartera en su conjunto como de los elementos que la componen."
   ]
  },
  {
   "cell_type": "code",
   "execution_count": null,
   "id": "8766f6a9",
   "metadata": {},
   "outputs": [],
   "source": []
  },
  {
   "cell_type": "markdown",
   "id": "dd51731a",
   "metadata": {},
   "source": [
    "Convierte el proceso de Monte Carlo en un método para la DataClass de la cartera. Incluye otro método que muestre por pantalla visualmente el resultado."
   ]
  },
  {
   "cell_type": "code",
   "execution_count": null,
   "id": "a920a513",
   "metadata": {},
   "outputs": [],
   "source": []
  },
  {
   "cell_type": "markdown",
   "id": "3f7db1ab",
   "metadata": {},
   "source": [
    "Incluye métodos para la “limpieza” y el preprocesado de los datos. ¿Debería el programa aceptarte cualquier tipo de input siempre que exista una serie temporal de precios?\n"
   ]
  },
  {
   "cell_type": "code",
   "execution_count": null,
   "id": "09e23abf",
   "metadata": {},
   "outputs": [],
   "source": []
  },
  {
   "cell_type": "markdown",
   "id": "f4abe027",
   "metadata": {},
   "source": [
    "Dada una cartera, crea un método .report (con los parámetros que consideres oportunos) que genere texto formateado en markdown y pueda mostrar por pantalla aquel análisis que consideres relevante, así como advertencias y cualquier otro aspecto."
   ]
  },
  {
   "cell_type": "markdown",
   "id": "5669a84f",
   "metadata": {},
   "source": [
    "Antiguamente, generar gráficos verdaderamente resultones era tedioso y no tenia gran aporte intelectual; la IA facilita enormemente todo esto. Intenta pensar en el tipo de visualizaciones más útiles para un usuario con su ayuda y guárdalas para que un método .plots_report() las muestre."
   ]
  },
  {
   "cell_type": "markdown",
   "id": "2687bccc",
   "metadata": {},
   "source": [
    "Estás construyendo un programa que empieza a tener dependencias, jerarquías, clases dentro de clases… es importante mantener la perspectiva general de lo que estás construyendo. Muchas veces, de hecho, igual debería ser tu primer paso. Intenta plasmar esta estructura utilizando algún recurso para mostrar diagramas. Esta es sencilla y útil https://github.com/stan-smith/FossFLOW "
   ]
  }
 ],
 "metadata": {
  "kernelspec": {
   "display_name": "base",
   "language": "python",
   "name": "python3"
  },
  "language_info": {
   "codemirror_mode": {
    "name": "ipython",
    "version": 3
   },
   "file_extension": ".py",
   "mimetype": "text/x-python",
   "name": "python",
   "nbconvert_exporter": "python",
   "pygments_lexer": "ipython3",
   "version": "3.11.7"
  }
 },
 "nbformat": 4,
 "nbformat_minor": 5
}
